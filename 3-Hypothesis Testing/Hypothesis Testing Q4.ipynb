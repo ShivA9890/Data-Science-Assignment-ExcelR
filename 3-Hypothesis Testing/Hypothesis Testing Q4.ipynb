{
 "cells": [
  {
   "cell_type": "markdown",
   "id": "154dfce4",
   "metadata": {},
   "source": [
    "# Hypothesis Testing Q4"
   ]
  },
  {
   "cell_type": "code",
   "execution_count": 1,
   "id": "9025ea18",
   "metadata": {},
   "outputs": [],
   "source": [
    "import pandas as pd\n",
    "import numpy as np\n",
    "from scipy import stats"
   ]
  },
  {
   "cell_type": "markdown",
   "id": "5ba337b2",
   "metadata": {},
   "source": [
    "\n",
    "# Data description"
   ]
  },
  {
   "cell_type": "markdown",
   "id": "dd6a956f",
   "metadata": {},
   "source": [
    "\n",
    "α == 0.05 (95% Confidence)\n",
    "\n",
    "Y == Discrete\n",
    "X == Discrete\n",
    "\n",
    "Since there are more than 2 variable we will perform Chi-Square test"
   ]
  },
  {
   "cell_type": "markdown",
   "id": "21cb1295",
   "metadata": {},
   "source": [
    "# Chi-Square Test"
   ]
  },
  {
   "cell_type": "code",
   "execution_count": 2,
   "id": "e832968c",
   "metadata": {},
   "outputs": [],
   "source": [
    "df = pd.read_csv(r\"C:\\Users\\Shivam\\Downloads\\Costomer+OrderForm.csv\")"
   ]
  },
  {
   "cell_type": "code",
   "execution_count": 3,
   "id": "002bf5fa",
   "metadata": {},
   "outputs": [
    {
     "data": {
      "text/plain": [
       "(3.8589606858203545,\n",
       " 0.2771020991233144,\n",
       " 3,\n",
       " array([[271.75,  28.25],\n",
       "        [271.75,  28.25],\n",
       "        [271.75,  28.25],\n",
       "        [271.75,  28.25]]))"
      ]
     },
     "execution_count": 3,
     "metadata": {},
     "output_type": "execute_result"
    }
   ],
   "source": [
    "stats.chi2_contingency([df['Phillippines'].value_counts(), df['Indonesia'].value_counts(), df['Malta'].value_counts(), df['India'].value_counts()])"
   ]
  },
  {
   "cell_type": "markdown",
   "id": "b9f8e92d",
   "metadata": {},
   "source": [
    "P value of Chi-Square test == 0.277 > α\n",
    "\n",
    "Thus HO is accepted.\n",
    "The defective % does not varies significantly by centres"
   ]
  },
  {
   "cell_type": "code",
   "execution_count": null,
   "id": "844c7b59",
   "metadata": {},
   "outputs": [],
   "source": []
  }
 ],
 "metadata": {
  "kernelspec": {
   "display_name": "Python 3 (ipykernel)",
   "language": "python",
   "name": "python3"
  },
  "language_info": {
   "codemirror_mode": {
    "name": "ipython",
    "version": 3
   },
   "file_extension": ".py",
   "mimetype": "text/x-python",
   "name": "python",
   "nbconvert_exporter": "python",
   "pygments_lexer": "ipython3",
   "version": "3.9.7"
  }
 },
 "nbformat": 4,
 "nbformat_minor": 5
}
