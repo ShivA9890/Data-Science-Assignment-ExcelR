{
 "cells": [
  {
   "cell_type": "markdown",
   "id": "4f227b48",
   "metadata": {},
   "source": [
    "# Hypothesis Testing Q2"
   ]
  },
  {
   "cell_type": "code",
   "execution_count": 2,
   "id": "05c20f6f",
   "metadata": {},
   "outputs": [],
   "source": [
    "import pandas as pd\n",
    "import numpy as np\n",
    "from scipy import stats"
   ]
  },
  {
   "cell_type": "markdown",
   "id": "c5e43618",
   "metadata": {},
   "source": [
    "# Data description"
   ]
  },
  {
   "cell_type": "markdown",
   "id": "fc2835f0",
   "metadata": {},
   "source": [
    "\n",
    "α == 0.05 (95% Confidence)\n",
    "\n",
    "Y == Continious\n",
    "X == Discrete\n",
    "\n",
    "Is Y1, Y2, Y3 and Y4 normal ?\n",
    "\n",
    "H0 = Y1, Y2, Y3 and Y4 are normal\n",
    "H1 = Y1, Y2, Y3 and Y4 are not normal"
   ]
  },
  {
   "cell_type": "markdown",
   "id": "b8ac343a",
   "metadata": {},
   "source": [
    "# Normality Test"
   ]
  },
  {
   "cell_type": "code",
   "execution_count": 3,
   "id": "f4bcecf6",
   "metadata": {},
   "outputs": [],
   "source": [
    "df = pd.read_csv(r\"C:\\Users\\Shivam\\Downloads/LabTAT.csv\")\n"
   ]
  },
  {
   "cell_type": "code",
   "execution_count": 4,
   "id": "d24509d2",
   "metadata": {},
   "outputs": [
    {
     "data": {
      "text/plain": [
       "ShapiroResult(statistic=0.9901824593544006, pvalue=0.5506953597068787)"
      ]
     },
     "execution_count": 4,
     "metadata": {},
     "output_type": "execute_result"
    }
   ],
   "source": [
    "stats.shapiro(df[\"Laboratory 1\"])"
   ]
  },
  {
   "cell_type": "code",
   "execution_count": 6,
   "id": "d94aa8e6",
   "metadata": {},
   "outputs": [
    {
     "data": {
      "text/plain": [
       "ShapiroResult(statistic=0.9936322569847107, pvalue=0.8637524843215942)"
      ]
     },
     "execution_count": 6,
     "metadata": {},
     "output_type": "execute_result"
    }
   ],
   "source": [
    "stats.shapiro(df[\"Laboratory 2\"])"
   ]
  },
  {
   "cell_type": "code",
   "execution_count": 7,
   "id": "a9923930",
   "metadata": {},
   "outputs": [
    {
     "data": {
      "text/plain": [
       "ShapiroResult(statistic=0.9886345267295837, pvalue=0.4205053448677063)"
      ]
     },
     "execution_count": 7,
     "metadata": {},
     "output_type": "execute_result"
    }
   ],
   "source": [
    "stats.shapiro(df[\"Laboratory 3\"])"
   ]
  },
  {
   "cell_type": "code",
   "execution_count": 8,
   "id": "5727cca6",
   "metadata": {},
   "outputs": [
    {
     "data": {
      "text/plain": [
       "ShapiroResult(statistic=0.9913753271102905, pvalue=0.6618951559066772)"
      ]
     },
     "execution_count": 8,
     "metadata": {},
     "output_type": "execute_result"
    }
   ],
   "source": [
    "stats.shapiro(df[\"Laboratory 4\"])"
   ]
  },
  {
   "cell_type": "markdown",
   "id": "af5f28ba",
   "metadata": {},
   "source": [
    "(0.9901824593544006, 0.5506953597068787)\n",
    "P value for Laboratory 1 == 0.55 > α\n",
    "\n",
    "\n",
    "(0.9936322569847107, 0.8637524843215942)\n",
    "P value for Laboratory 2 == 0.86 > α\n",
    "\n",
    "\n",
    "(0.9886345267295837, 0.4205053448677063)\n",
    "P value for Laboratory 3 == 0.42 > α\n",
    "\n",
    "\n",
    "(0.9913753271102905, 0.6618951559066772)\n",
    "P value for Y1 (Unit B) == 0.66 > α\n",
    "\n",
    "HO is accepted. Thats is Y1, Y2, Y3, and Y4 are normal"
   ]
  },
  {
   "cell_type": "markdown",
   "id": "10754e3a",
   "metadata": {},
   "source": [
    "# Variance"
   ]
  },
  {
   "cell_type": "code",
   "execution_count": 9,
   "id": "2251132c",
   "metadata": {},
   "outputs": [
    {
     "data": {
      "text/plain": [
       "LeveneResult(statistic=2.599642500418024, pvalue=0.05161343808309816)"
      ]
     },
     "execution_count": 9,
     "metadata": {},
     "output_type": "execute_result"
    }
   ],
   "source": [
    "stats.levene(df[\"Laboratory 1\"], df[\"Laboratory 2\"], df[\"Laboratory 3\"], df[\"Laboratory 4\"])"
   ]
  },
  {
   "cell_type": "markdown",
   "id": "8997928e",
   "metadata": {},
   "source": [
    "P Value of Variance test is == 0.051 > α\n",
    "\n",
    "H0 is accepted\n",
    "Thus we will perform one way Anova Test"
   ]
  },
  {
   "cell_type": "markdown",
   "id": "ef522dc7",
   "metadata": {},
   "source": [
    "# Model"
   ]
  },
  {
   "cell_type": "code",
   "execution_count": 10,
   "id": "5d2de799",
   "metadata": {},
   "outputs": [
    {
     "data": {
      "text/plain": [
       "F_onewayResult(statistic=118.70421654401437, pvalue=2.1156708949992414e-57)"
      ]
     },
     "execution_count": 10,
     "metadata": {},
     "output_type": "execute_result"
    }
   ],
   "source": [
    "stats.stats.f_oneway(df[\"Laboratory 1\"], df[\"Laboratory 2\"], df[\"Laboratory 3\"], df[\"Laboratory 4\"])"
   ]
  },
  {
   "cell_type": "markdown",
   "id": "e0cdce3a",
   "metadata": {},
   "source": [
    "P value of the One way Anova test is == 2e-16 < α\n",
    "\n",
    "Thus H1 is accepted.\n",
    "Mean TAT for 4 laboratories not equal (There is a significance difference between TAT of the laboratories)"
   ]
  },
  {
   "cell_type": "code",
   "execution_count": null,
   "id": "2b00f680",
   "metadata": {},
   "outputs": [],
   "source": []
  }
 ],
 "metadata": {
  "kernelspec": {
   "display_name": "Python 3 (ipykernel)",
   "language": "python",
   "name": "python3"
  },
  "language_info": {
   "codemirror_mode": {
    "name": "ipython",
    "version": 3
   },
   "file_extension": ".py",
   "mimetype": "text/x-python",
   "name": "python",
   "nbconvert_exporter": "python",
   "pygments_lexer": "ipython3",
   "version": "3.9.7"
  }
 },
 "nbformat": 4,
 "nbformat_minor": 5
}
