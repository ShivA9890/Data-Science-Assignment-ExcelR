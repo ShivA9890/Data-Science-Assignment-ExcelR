{
 "cells": [
  {
   "cell_type": "markdown",
   "id": "250e89e6",
   "metadata": {},
   "source": [
    "# Hypothesis Testing Q1"
   ]
  },
  {
   "cell_type": "code",
   "execution_count": 8,
   "id": "82aa1b07",
   "metadata": {},
   "outputs": [],
   "source": [
    "import pandas as pd\n",
    "import numpy as np\n",
    "from scipy import stats"
   ]
  },
  {
   "cell_type": "markdown",
   "id": "df0fa0fc",
   "metadata": {},
   "source": [
    "# Normality Test"
   ]
  },
  {
   "cell_type": "code",
   "execution_count": 2,
   "id": "f9f21a3d",
   "metadata": {},
   "outputs": [],
   "source": [
    "df = pd.read_csv(r\"C:\\Users\\Shivam\\Downloads\\Cutlets.csv\")"
   ]
  },
  {
   "cell_type": "code",
   "execution_count": 3,
   "id": "90ba221b",
   "metadata": {},
   "outputs": [
    {
     "data": {
      "text/plain": [
       "ShapiroResult(statistic=0.9649458527565002, pvalue=0.3199819028377533)"
      ]
     },
     "execution_count": 3,
     "metadata": {},
     "output_type": "execute_result"
    }
   ],
   "source": [
    "stats.shapiro(df[\"Unit A\"])"
   ]
  },
  {
   "cell_type": "code",
   "execution_count": 4,
   "id": "b5ef0764",
   "metadata": {},
   "outputs": [
    {
     "data": {
      "text/plain": [
       "ShapiroResult(statistic=0.9727300405502319, pvalue=0.5224985480308533)"
      ]
     },
     "execution_count": 4,
     "metadata": {},
     "output_type": "execute_result"
    }
   ],
   "source": [
    "stats.shapiro(df[\"Unit B\"])"
   ]
  },
  {
   "cell_type": "markdown",
   "id": "b0554f1e",
   "metadata": {},
   "source": [
    "P value for Unit A == 0.32 > α\n",
    "P value for Unit B == 0.52 > α\n",
    "\n",
    "HO is accepted. \n",
    "Thats is both Y1 and Y2 are normal"
   ]
  },
  {
   "cell_type": "code",
   "execution_count": 6,
   "id": "70e9e5c2",
   "metadata": {},
   "outputs": [
    {
     "data": {
      "text/plain": [
       "Ttest_relResult(statistic=0.7536787225614314, pvalue=0.4562300768038412)"
      ]
     },
     "execution_count": 6,
     "metadata": {},
     "output_type": "execute_result"
    }
   ],
   "source": [
    "stats.ttest_rel(df[\"Unit A\"], df[\"Unit B\"])"
   ]
  },
  {
   "cell_type": "markdown",
   "id": "4735d016",
   "metadata": {},
   "source": [
    "Ttest_relResult(statistic=0.7536787225614323, pvalue=0.45623007680384076)\n",
    "P value of the Paired T Test is == 0.45 > α\n",
    "\n",
    "Thus H0 is accepted.\n",
    "Mean of both Y1 and Y2 are equal"
   ]
  }
 ],
 "metadata": {
  "kernelspec": {
   "display_name": "Python 3 (ipykernel)",
   "language": "python",
   "name": "python3"
  },
  "language_info": {
   "codemirror_mode": {
    "name": "ipython",
    "version": 3
   },
   "file_extension": ".py",
   "mimetype": "text/x-python",
   "name": "python",
   "nbconvert_exporter": "python",
   "pygments_lexer": "ipython3",
   "version": "3.9.7"
  }
 },
 "nbformat": 4,
 "nbformat_minor": 5
}
