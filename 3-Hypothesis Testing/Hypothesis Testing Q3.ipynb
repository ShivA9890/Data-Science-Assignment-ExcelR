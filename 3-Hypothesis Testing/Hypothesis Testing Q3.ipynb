{
 "cells": [
  {
   "cell_type": "markdown",
   "id": "77185bca",
   "metadata": {},
   "source": [
    "# Hypothesis Testing Q3"
   ]
  },
  {
   "cell_type": "code",
   "execution_count": 1,
   "id": "65a6b0ed",
   "metadata": {},
   "outputs": [],
   "source": [
    "import pandas as pd\n",
    "import numpy as np\n",
    "from scipy import stats"
   ]
  },
  {
   "cell_type": "markdown",
   "id": "6995c176",
   "metadata": {},
   "source": [
    "# Data description"
   ]
  },
  {
   "cell_type": "markdown",
   "id": "541ef872",
   "metadata": {},
   "source": [
    "\n",
    "α == 0.05 (95% Confidence)\n",
    "\n",
    "Y == Discrete X == Discrete\n",
    "\n",
    "Since there are more than 2 variable we will perform Chi-Square test"
   ]
  },
  {
   "cell_type": "markdown",
   "id": "6c1e7dea",
   "metadata": {},
   "source": [
    "# Chi-Square Test"
   ]
  },
  {
   "cell_type": "code",
   "execution_count": 3,
   "id": "fd1c4814",
   "metadata": {},
   "outputs": [],
   "source": [
    "df = pd.read_csv(r\"C:\\Users\\Shivam\\Downloads\\BuyerRatio.csv\")"
   ]
  },
  {
   "cell_type": "code",
   "execution_count": 4,
   "id": "1e88bee4",
   "metadata": {},
   "outputs": [
    {
     "data": {
      "text/plain": [
       "(1.5959455386610577,\n",
       " 0.6603094907091882,\n",
       " 3,\n",
       " array([[  42.76531299,  442.23468701],\n",
       "        [ 146.81287862, 1518.18712138],\n",
       "        [ 131.11756787, 1355.88243213],\n",
       "        [  72.30424052,  747.69575948]]))"
      ]
     },
     "execution_count": 4,
     "metadata": {},
     "output_type": "execute_result"
    }
   ],
   "source": [
    "stats.chi2_contingency([df[\"East\"], df[\"West\"], df[\"North\"], df[\"South\"]])"
   ]
  },
  {
   "cell_type": "markdown",
   "id": "4f107838",
   "metadata": {},
   "source": [
    "P value of Chi-Square test == 0.66 > α\n",
    "\n",
    "Thus HO is accepted.\n",
    "The male-female buyer rations are similar across regions"
   ]
  },
  {
   "cell_type": "code",
   "execution_count": null,
   "id": "d3f1299e",
   "metadata": {},
   "outputs": [],
   "source": []
  }
 ],
 "metadata": {
  "kernelspec": {
   "display_name": "Python 3 (ipykernel)",
   "language": "python",
   "name": "python3"
  },
  "language_info": {
   "codemirror_mode": {
    "name": "ipython",
    "version": 3
   },
   "file_extension": ".py",
   "mimetype": "text/x-python",
   "name": "python",
   "nbconvert_exporter": "python",
   "pygments_lexer": "ipython3",
   "version": "3.9.7"
  }
 },
 "nbformat": 4,
 "nbformat_minor": 5
}
